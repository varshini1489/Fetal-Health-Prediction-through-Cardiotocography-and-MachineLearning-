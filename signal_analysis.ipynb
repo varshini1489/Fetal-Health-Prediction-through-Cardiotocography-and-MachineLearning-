{
 "cells": [
  {
   "cell_type": "code",
   "execution_count": 1,
   "id": "af78a951",
   "metadata": {},
   "outputs": [],
   "source": [
    "import matplotlib.pyplot as plt\n",
    "import numpy as np\n",
    "from scipy import interpolate\n"
   ]
  },
  {
   "cell_type": "code",
   "execution_count": 2,
   "id": "b751bad3",
   "metadata": {},
   "outputs": [],
   "source": [
    "def plot_power_spectrum(df, col):\n",
    "   \n",
    "    n = len(df)\n",
    "    dt = 0.25  # sampling frequenc=y\n",
    "    fhat = np.fft.fft(df[col], n)  # Compute FFT\n",
    "    PSD = fhat * np.conj(fhat) / n  # Power spectrum\n",
    "    freq = (1/(dt*n)) * np.arange(n)  # Create X- axis of ferquencies\n",
    "    L = np.arange(1, np.floor(n/15), dtype='int')\n",
    "\n",
    "    _, axs = plt.subplots(3, 1, figsize=(25, 15))\n",
    "\n",
    "    plt.sca(axs[0])\n",
    "    plt.title('Original Signal (noisy)')\n",
    "    plt.plot(df['seconds'], df[col], label='Noisy')\n",
    "    plt.legend()\n",
    "\n",
    "    plt.sca(axs[1])\n",
    "    plt.plot(freq[L], PSD[L])\n",
    "    plt.xlim(freq[L[0]], freq[L[-1]])\n",
    "    plt.title('Power Spectrum')\n",
    "    # plt.show()\n",
    "\n",
    "    indices = PSD > 0.00001  # finad all frequecies larger then power spectrum\n",
    "    PSDclean = PSD * indices  # zero out all other indices\n",
    "    fhat = indices * fhat  # zero out all fourier coff in Y\n",
    "    ffilt = np.fft.ifft(fhat)  # inverse FFT for filtered time signal\n",
    "\n",
    "    plt.sca(axs[2])\n",
    "    plt.title('DeNoised Signal')\n",
    "    plt.plot(df['seconds'], ffilt, label='DeNoised')\n",
    "    plt.legend()\n",
    "\n",
    "    plt.show()"
   ]
  },
  {
   "cell_type": "code",
   "execution_count": 3,
   "id": "d8bc0c38",
   "metadata": {},
   "outputs": [],
   "source": [
    "def f(df, x):\n",
    "    x_points = df['seconds']\n",
    "    y_points = df['FHR']\n",
    "\n",
    "    tck = interpolate.splrep(x_points, y_points)\n",
    "    return interpolate.splev(x, tck)"
   ]
  },
  {
   "cell_type": "code",
   "execution_count": 4,
   "id": "e5230e99",
   "metadata": {},
   "outputs": [],
   "source": [
    "def plot_interpolated_df(df):\n",
    "\n",
    "    _, axs = plt.subplots(2, 1, figsize=(25, 12))\n",
    "    plt.sca(axs[0])\n",
    "    plt.plot(df['seconds'], df['FHR'], label='Noisy')\n",
    "    plt.legend()\n",
    "\n",
    "    plt.sca(axs[1])\n",
    "    plt.plot(df.seconds, df.FHR_denoised, label='DeNoised')\n",
    "    plt.legend()\n",
    "\n",
    "    plt.show()"
   ]
  },
  {
   "cell_type": "code",
   "execution_count": 5,
   "id": "beffa601",
   "metadata": {},
   "outputs": [],
   "source": [
    "def interpolate_df(df, col):\n",
    "    \n",
    "    t = 30\n",
    "    values = list(df[col])\n",
    "    flag = None\n",
    "    k = len(df)\n",
    "    i = 0\n",
    "\n",
    "    while i <= k-t:\n",
    "        x = df[col][i]\n",
    "        if x >= 50:\n",
    "            pass\n",
    "        else:\n",
    "            count = 0\n",
    "            while True:\n",
    "                if df[col][i+count] == 0:\n",
    "                    count += 1\n",
    "                else:\n",
    "                    flag = 'yes'\n",
    "                    break\n",
    "                if count == t+1:\n",
    "                    flag = 'no'\n",
    "                    #shift = 0\n",
    "                    i += count\n",
    "                    while i <= k-t:\n",
    "                        if df[col][i] == 0:\n",
    "                            i += 1\n",
    "                        else:\n",
    "                            break\n",
    "                    #i += shift\n",
    "                    break\n",
    "            if flag == 'yes':\n",
    "                values[i] = f(df, x)\n",
    "        i += 1\n",
    "\n",
    "    df[col+'_denoised'] = values\n",
    "    return df"
   ]
  },
  {
   "cell_type": "code",
   "execution_count": null,
   "id": "d975a15f",
   "metadata": {},
   "outputs": [],
   "source": []
  }
 ],
 "metadata": {
  "kernelspec": {
   "display_name": "Python 3 (ipykernel)",
   "language": "python",
   "name": "python3"
  },
  "language_info": {
   "codemirror_mode": {
    "name": "ipython",
    "version": 3
   },
   "file_extension": ".py",
   "mimetype": "text/x-python",
   "name": "python",
   "nbconvert_exporter": "python",
   "pygments_lexer": "ipython3",
   "version": "3.9.7"
  }
 },
 "nbformat": 4,
 "nbformat_minor": 5
}
