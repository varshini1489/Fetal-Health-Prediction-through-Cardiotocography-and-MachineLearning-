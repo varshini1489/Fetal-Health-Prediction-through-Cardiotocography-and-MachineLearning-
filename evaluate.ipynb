{
 "cells": [
  {
   "cell_type": "code",
   "execution_count": 1,
   "id": "4b4710f5",
   "metadata": {},
   "outputs": [],
   "source": [
    "import matplotlib.pyplot as plt\n",
    "from sklearn.metrics import (accuracy_score, classification_report,\n",
    "                             confusion_matrix)"
   ]
  },
  {
   "cell_type": "code",
   "execution_count": 3,
   "id": "d21799ab",
   "metadata": {},
   "outputs": [],
   "source": [
    "def evaluate_model(model, features, target):\n",
    "    pred = model.predict(features)\n",
    "    acc = accuracy_score(target, pred)\n",
    "    print(\"Accuracy:- %.2f%%\" % (acc * 100.0))\n",
    "    print('Confusion matrix :- \\n', confusion_matrix(target, pred))\n",
    "    print(\"Classification Report:-\\n\", classification_report(target, pred))"
   ]
  },
  {
   "cell_type": "code",
   "execution_count": 5,
   "id": "97836869",
   "metadata": {},
   "outputs": [],
   "source": []
  },
  {
   "cell_type": "code",
   "execution_count": null,
   "id": "05fbded3",
   "metadata": {},
   "outputs": [],
   "source": []
  }
 ],
 "metadata": {
  "kernelspec": {
   "display_name": "Python 3 (ipykernel)",
   "language": "python",
   "name": "python3"
  },
  "language_info": {
   "codemirror_mode": {
    "name": "ipython",
    "version": 3
   },
   "file_extension": ".py",
   "mimetype": "text/x-python",
   "name": "python",
   "nbconvert_exporter": "python",
   "pygments_lexer": "ipython3",
   "version": "3.9.7"
  }
 },
 "nbformat": 4,
 "nbformat_minor": 5
}
